{
 "cells": [
  {
   "cell_type": "code",
   "execution_count": null,
   "metadata": {},
   "outputs": [],
   "source": [
    "from vfi_model import run_training, Config\n",
    "\n",
    "# Optional: customize configuration\n",
    "config = Config(\n",
    "    img_size=(128, 128),\n",
    "    epochs=20,\n",
    "    batch_size=16\n",
    ")\n",
    "\n",
    "# Run training and display results\n",
    "video_path = \"input/motion.mp4\"\n",
    "animation = run_training(video_path, config)\n",
    "display(animation)"
   ]
  }
 ],
 "metadata": {
  "language_info": {
   "name": "python"
  }
 },
 "nbformat": 4,
 "nbformat_minor": 2
}
