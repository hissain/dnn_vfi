{
 "cells": [
  {
   "cell_type": "code",
   "execution_count": 1,
   "id": "a1e710db",
   "metadata": {},
   "outputs": [],
   "source": [
    "#!pip install torch torchvision"
   ]
  },
  {
   "cell_type": "code",
   "execution_count": 4,
   "id": "2b4f07dc",
   "metadata": {},
   "outputs": [
    {
     "ename": "NameError",
     "evalue": "name 'dataloader' is not defined",
     "output_type": "error",
     "traceback": [
      "\u001b[0;31m---------------------------------------------------------------------------\u001b[0m",
      "\u001b[0;31mNameError\u001b[0m                                 Traceback (most recent call last)",
      "Cell \u001b[0;32mIn[4], line 44\u001b[0m\n\u001b[1;32m     42\u001b[0m \u001b[38;5;66;03m# Training loop\u001b[39;00m\n\u001b[1;32m     43\u001b[0m \u001b[38;5;28;01mfor\u001b[39;00m epoch \u001b[38;5;129;01min\u001b[39;00m \u001b[38;5;28mrange\u001b[39m(num_epochs):\n\u001b[0;32m---> 44\u001b[0m     \u001b[38;5;28;01mfor\u001b[39;00m inputs, targets \u001b[38;5;129;01min\u001b[39;00m \u001b[43mdataloader\u001b[49m:  \u001b[38;5;66;03m# Define 'dataloader' to load your dataset\u001b[39;00m\n\u001b[1;32m     45\u001b[0m         optimizer\u001b[38;5;241m.\u001b[39mzero_grad()\n\u001b[1;32m     46\u001b[0m         outputs \u001b[38;5;241m=\u001b[39m model(inputs)\n",
      "\u001b[0;31mNameError\u001b[0m: name 'dataloader' is not defined"
     ]
    }
   ],
   "source": [
    "import torch\n",
    "import torch.nn as nn\n",
    "\n",
    "class S6Layer(nn.Module):\n",
    "    def __init__(self, input_dim, hidden_dim):\n",
    "        super(S6Layer, self).__init__()\n",
    "        self.linear1 = nn.Linear(input_dim, hidden_dim)\n",
    "        self.linear2 = nn.Linear(hidden_dim, input_dim)\n",
    "        self.activation = nn.GELU()\n",
    "\n",
    "    def forward(self, x):\n",
    "        # x: (batch_size, sequence_length, input_dim)\n",
    "        h = self.activation(self.linear1(x))\n",
    "        out = self.linear2(h)\n",
    "        return out + x  # Residual connection\n",
    "\n",
    "class VFIMamba(nn.Module):\n",
    "    def __init__(self, input_dim, hidden_dim, num_layers):\n",
    "        super(VFIMamba, self).__init__()\n",
    "        self.s6_layers = nn.ModuleList([S6Layer(input_dim, hidden_dim) for _ in range(num_layers)])\n",
    "        self.output_layer = nn.Linear(input_dim, input_dim)\n",
    "\n",
    "    def forward(self, x):\n",
    "        for layer in self.s6_layers:\n",
    "            x = layer(x)\n",
    "        return self.output_layer(x)\n",
    "\n",
    "import torch.optim as optim\n",
    "\n",
    "# Hyperparameters\n",
    "input_dim = 128 * 128 * 3  # Assuming 128x128 RGB images\n",
    "hidden_dim = 512\n",
    "num_layers = 4\n",
    "learning_rate = 1e-4\n",
    "num_epochs = 10\n",
    "\n",
    "# Initialize model, loss function, and optimizer\n",
    "model = VFIMamba(input_dim, hidden_dim, num_layers)\n",
    "criterion = nn.MSELoss()\n",
    "optimizer = optim.Adam(model.parameters(), lr=learning_rate)\n",
    "\n",
    "# Training loop\n",
    "for epoch in range(num_epochs):\n",
    "    for inputs, targets in dataloader:  # Define 'dataloader' to load your dataset\n",
    "        optimizer.zero_grad()\n",
    "        outputs = model(inputs)\n",
    "        loss = criterion(outputs, targets)\n",
    "        loss.backward()\n",
    "        optimizer.step()\n",
    "    print(f\"Epoch [{epoch+1}/{num_epochs}], Loss: {loss.item():.4f}\")\n"
   ]
  },
  {
   "cell_type": "code",
   "execution_count": null,
   "id": "54f249ba",
   "metadata": {},
   "outputs": [],
   "source": [
    "import cv2\n",
    "import numpy as np\n",
    "\n",
    "model.eval()\n",
    "with torch.no_grad():\n",
    "    for inputs, targets in test_dataloader:  # Define 'test_dataloader' for your test set\n",
    "        outputs = model(inputs)\n",
    "        # Reshape and convert outputs to images\n",
    "        output_images = outputs.view(-1, 128, 128, 3).cpu().numpy()\n",
    "        target_images = targets.view(-1, 128, 128, 3).cpu().numpy()\n",
    "        # Compare output_images with target_images\n",
    "        for i, (output_img, target_img) in enumerate(zip(output_images, target_images)):\n",
    "            combined = np.hstack((output_img, target_img))\n",
    "            cv2.imshow(f'Output vs Target {i}', combined)\n",
    "            cv2.waitKey(0)\n",
    "        cv2.destroyAllWindows()"
   ]
  }
 ],
 "metadata": {
  "kernelspec": {
   "display_name": "Python (myenv)",
   "language": "python",
   "name": "myenv"
  },
  "language_info": {
   "codemirror_mode": {
    "name": "ipython",
    "version": 3
   },
   "file_extension": ".py",
   "mimetype": "text/x-python",
   "name": "python",
   "nbconvert_exporter": "python",
   "pygments_lexer": "ipython3",
   "version": "3.11.5"
  }
 },
 "nbformat": 4,
 "nbformat_minor": 5
}
